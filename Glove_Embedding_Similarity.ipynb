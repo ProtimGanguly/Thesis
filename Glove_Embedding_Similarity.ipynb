{
  "nbformat": 4,
  "nbformat_minor": 0,
  "metadata": {
    "colab": {
      "name": "Glove_Embedding_Similarity",
      "version": "0.3.2",
      "provenance": [],
      "collapsed_sections": []
    },
    "kernelspec": {
      "name": "python3",
      "display_name": "Python 3"
    },
    "accelerator": "GPU"
  },
  "cells": [
    {
      "cell_type": "markdown",
      "metadata": {
        "id": "7q_0eIK4VCvA",
        "colab_type": "text"
      },
      "source": [
        "##Import Required Libraries"
      ]
    },
    {
      "cell_type": "code",
      "metadata": {
        "id": "coBhPTPoOzQ7",
        "colab_type": "code",
        "colab": {
          "base_uri": "https://localhost:8080/",
          "height": 119
        },
        "outputId": "22b0d559-c1b8-4960-dccf-cab63130bbaa"
      },
      "source": [
        "import os, numpy as np, math, scipy, re, pandas as pd,csv\n",
        "import nltk\n",
        "nltk.download('stopwords')\n",
        "nltk.download('punkt')\n",
        "nltk.download('words')\n",
        "from nltk.corpus import stopwords, words\n",
        "from nltk.util import ngrams\n",
        "from numpy import hstack\n",
        "from fnmatch import fnmatch\n",
        "from itertools import product, combinations, zip_longest\n",
        "import gensim.downloader as api\n",
        "import matplotlib.pyplot as plt\n",
        "from sklearn.manifold import TSNE\n",
        "from matplotlib.ticker import StrMethodFormatter"
      ],
      "execution_count": 41,
      "outputs": [
        {
          "output_type": "stream",
          "text": [
            "[nltk_data] Downloading package stopwords to /root/nltk_data...\n",
            "[nltk_data]   Package stopwords is already up-to-date!\n",
            "[nltk_data] Downloading package punkt to /root/nltk_data...\n",
            "[nltk_data]   Package punkt is already up-to-date!\n",
            "[nltk_data] Downloading package words to /root/nltk_data...\n",
            "[nltk_data]   Package words is already up-to-date!\n"
          ],
          "name": "stdout"
        }
      ]
    },
    {
      "cell_type": "markdown",
      "metadata": {
        "id": "rgLOt70mVKBo",
        "colab_type": "text"
      },
      "source": [
        "##GloVe Model"
      ]
    },
    {
      "cell_type": "code",
      "metadata": {
        "id": "DCiyM1Sf7kCK",
        "colab_type": "code",
        "colab": {
          "base_uri": "https://localhost:8080/",
          "height": 88
        },
        "outputId": "4cc313bc-7b44-475a-fa83-dac026d84cb2"
      },
      "source": [
        "\n",
        "glove_model = api.load(\"glove-twitter-200\")\n",
        "\n"
      ],
      "execution_count": 2,
      "outputs": [
        {
          "output_type": "stream",
          "text": [
            "[==================================================] 100.0% 758.5/758.5MB downloaded\n"
          ],
          "name": "stdout"
        },
        {
          "output_type": "stream",
          "text": [
            "/usr/local/lib/python3.6/dist-packages/smart_open/smart_open_lib.py:398: UserWarning: This function is deprecated, use smart_open.open instead. See the migration notes for details: https://github.com/RaRe-Technologies/smart_open/blob/master/README.rst#migrating-to-the-new-open-function\n",
            "  'See the migration notes for details: %s' % _MIGRATION_NOTES_URL\n"
          ],
          "name": "stderr"
        }
      ]
    },
    {
      "cell_type": "markdown",
      "metadata": {
        "id": "6KKELacZVWFz",
        "colab_type": "text"
      },
      "source": [
        "##Similarity Measure of Embeddings"
      ]
    },
    {
      "cell_type": "code",
      "metadata": {
        "id": "LHZ-wgdw8OWX",
        "colab_type": "code",
        "colab": {}
      },
      "source": [
        "def glove_embedding_distance(fir1 , fir2):\n",
        "  try:\n",
        "    return(round(model.similarity(fir1, fir2)*100,2))\n",
        "  except:\n",
        "    return 0\n",
        "\n"
      ],
      "execution_count": 0,
      "outputs": []
    },
    {
      "cell_type": "code",
      "metadata": {
        "id": "BLBJFNBtYB_4",
        "colab_type": "code",
        "colab": {}
      },
      "source": [
        "def preprocess(raw_text):\n",
        "\n",
        "    # keep only words\n",
        "    letters_only_text = re.sub(\"[^a-zA-Z]\", \" \", raw_text)\n",
        "\n",
        "    # convert to lower case and split \n",
        "    words = letters_only_text.lower().split()\n",
        "    # remove stopwords\n",
        "    stopword_set = set(stopwords.words(\"english\"))\n",
        "    cleaned_words = set([w for w in words if w not in stopword_set])\n",
        "    return cleaned_words"
      ],
      "execution_count": 0,
      "outputs": []
    },
    {
      "cell_type": "code",
      "metadata": {
        "id": "rJSD-jeiYC-7",
        "colab_type": "code",
        "colab": {}
      },
      "source": [
        "def glv_cosine_distance_wordembedding_method(s1, s2):\n",
        "  try:\n",
        "    vector_1 = np.mean([glove_model[word] for word in preprocess(s1)],axis=0)\n",
        "    vector_2 = np.mean([glove_model[word] for word in preprocess(s2)],axis=0)\n",
        "    cosine = scipy.spatial.distance.cosine(vector_1, vector_2)\n",
        "    #print('Word Embedding method with a cosine distance asses that our two sentences are similar to',round((1 -cosine)*100,2),'%')\n",
        "    return round((1 -cosine)*100,2)\n",
        "  except:\n",
        "    if(preprocess(s1) == preprocess(s2)):\n",
        "      return 100\n",
        "    else:\n",
        "      return 0"
      ],
      "execution_count": 0,
      "outputs": []
    },
    {
      "cell_type": "markdown",
      "metadata": {
        "id": "bKL4nahJVcF4",
        "colab_type": "text"
      },
      "source": [
        "##Load Dataset"
      ]
    },
    {
      "cell_type": "code",
      "metadata": {
        "id": "hYW3VjZzOjhb",
        "colab_type": "code",
        "colab": {}
      },
      "source": [
        "items = os.listdir('/content')\n",
        "for file in items:\n",
        "  # To fetch all .tsv files\n",
        "  if fnmatch(file, '*Event*'):\n",
        "    #print (file)\n",
        "    event = pd.read_csv(file , header=None, sep = '\\t')\n",
        "  elif fnmatch(file, '*Sub*'):\n",
        "    subscription = pd.read_csv(file , header=None, sep = '\\t')\n",
        "  elif fnmatch(file, '*Relevance*'):\n",
        "    relevance_gold = pd.read_csv(file , header=None, sep = '\\t')"
      ],
      "execution_count": 0,
      "outputs": []
    },
    {
      "cell_type": "markdown",
      "metadata": {
        "id": "kpELWlHnVh8-",
        "colab_type": "text"
      },
      "source": [
        "##Preprocessing Relevance Data"
      ]
    },
    {
      "cell_type": "code",
      "metadata": {
        "id": "KvEbyDrohKko",
        "colab_type": "code",
        "colab": {
          "base_uri": "https://localhost:8080/",
          "height": 34
        },
        "outputId": "a8d3ca1b-c76e-4089-d36a-88438e5368e8"
      },
      "source": [
        "relevance_gold_event = []\n",
        "relevance_gold_sub = []\n",
        "for i in relevance_gold.itertuples():\n",
        "  #sub = i._2.strip(\"[]\").split(',')\n",
        "  #print([i.split() for i in sub])\n",
        "  #relevance_gold_event.append([i.split() for i in sub])\n",
        "  relevance_gold_event.append(i._2.strip(\"[]\").split(','))\n",
        "  relevance_gold_sub.append(i._1.strip(\"[]\").split(','))\n",
        "flat_list = [item for sublist in relevance_gold_sub for item in sublist]\n",
        "print(flat_list)"
      ],
      "execution_count": 6,
      "outputs": [
        {
          "output_type": "stream",
          "text": [
            "['13-1', '63-1']\n"
          ],
          "name": "stdout"
        }
      ]
    },
    {
      "cell_type": "markdown",
      "metadata": {
        "id": "2QNyvMTpVlMZ",
        "colab_type": "text"
      },
      "source": [
        "##Create Gold Standard Dictionary"
      ]
    },
    {
      "cell_type": "code",
      "metadata": {
        "id": "mHDA2oYuhLfA",
        "colab_type": "code",
        "colab": {
          "base_uri": "https://localhost:8080/",
          "height": 54
        },
        "outputId": "940034ab-81c0-4728-c4db-a958c9daa430"
      },
      "source": [
        "zipbObj = zip(flat_list, relevance_gold_event)\n",
        " \n",
        "# Create a dictionary from zip object\n",
        "gold_dict = dict(zipbObj)\n",
        "\n",
        "print(gold_dict)"
      ],
      "execution_count": 7,
      "outputs": [
        {
          "output_type": "stream",
          "text": [
            "{'13-1': ['132-52', ' 132-53', ' 132-50', ' 132-51', ' 132-56', ' 132-57', ' 132-54', ' 132-55', ' 132-49', ' 132-48', ' 132-47', ' 132-11', ' 132-10', ' 132-13', ' 132-12', ' 132-40', ' 132-41', ' 132-42', ' 132-43', ' 132-44', ' 132-45', ' 132-46', ' 132-37', ' 132-36', ' 132-39', ' 132-38', ' 132-8', ' 132-7', ' 132-6', ' 132-5', ' 132-9', ' 132-29', ' 132-4', ' 132-25', ' 132-3', ' 132-26', ' 132-2', ' 132-27', ' 132-1', ' 132-28', ' 132-33', ' 132-32', ' 132-35', ' 132-34', ' 132-31', ' 132-30', ' 132-60', ' 132-65', ' 132-66', ' 132-67', ' 132-18', ' 132-68', ' 132-19', ' 132-61', ' 132-16', ' 132-62', ' 132-17', ' 132-63', ' 132-14', ' 132-64', ' 132-15', ' 132-24', ' 132-23', ' 132-22', ' 132-21', ' 132-59', ' 132-20', ' 132-58'], '63-1': ['5-30', ' 5-31', ' 5-32', ' 5-37', ' 5-38', ' 5-39', ' 5-33', ' 5-34', ' 5-35', ' 5-36', ' 5-20', ' 5-21', ' 5-28', ' 5-29', ' 5-26', ' 5-27', ' 5-24', ' 5-25', ' 5-22', ' 5-23', ' 5-67', ' 5-66', ' 5-68', ' 5-19', ' 5-63', ' 5-62', ' 5-65', ' 5-64', ' 5-61', ' 5-60', ' 5-4', ' 5-5', ' 5-6', ' 5-7', ' 5-1', ' 5-2', ' 5-3', ' 5-10', ' 5-11', ' 5-12', ' 5-13', ' 5-14', ' 5-15', ' 5-16', ' 5-17', ' 5-18', ' 5-58', ' 5-57', ' 5-56', ' 5-55', ' 5-59', ' 5-50', ' 5-54', ' 5-53', ' 5-52', ' 5-51', ' 5-45', ' 5-44', ' 5-47', ' 5-46', ' 5-49', ' 5-48', ' 5-41', ' 5-40', ' 5-9', ' 5-43', ' 5-8', ' 5-42']}\n"
          ],
          "name": "stdout"
        }
      ]
    },
    {
      "cell_type": "markdown",
      "metadata": {
        "id": "-PFVP8GWVtyd",
        "colab_type": "text"
      },
      "source": [
        "##Event Matcher"
      ]
    },
    {
      "cell_type": "code",
      "metadata": {
        "id": "wYXjTDxaOeuX",
        "colab_type": "code",
        "colab": {}
      },
      "source": [
        "from collections import defaultdict\n",
        "gloveDict = defaultdict(list)\n",
        "#word2vecDict = {}\n",
        "for i in event.itertuples():\n",
        "    #print(i)\n",
        "    event_types_prop_glv = []\n",
        "    event_value_glv = []\n",
        "    event_values = i._2.strip(\"{}\").split(',')\n",
        "    event_types_prop_glv.append([i.split('=')[0] for i in event_values])\n",
        "    event_value_glv.append([i.split('=')[1] for i in event_values])\n",
        "    \n",
        "    for j in subscription.itertuples():\n",
        "        \n",
        "        subscription_types_prop_glv = []\n",
        "        subscription_value_glv = []\n",
        "        subscription_values = j._2.strip(\"{}\").split(',')\n",
        "        subscription_types_prop_glv.append([i.split('~')[0] for i in subscription_values])\n",
        "        sec = [i.split('~')[1] for i in subscription_values]\n",
        "        subscription_value_glv.append([i.split('=')[1] for i in sec])\n",
        "       \n",
        "        for slist in subscription_types_prop_glv:\n",
        "          for elist in event_types_prop_glv:\n",
        "            dist = 0\n",
        "            for a, b in product(slist, elist):  \n",
        "              \n",
        "                cos_dist = glv_cosine_distance_wordembedding_method(a,b)\n",
        "                \n",
        "                if(cos_dist > 65 ):\n",
        "                 \n",
        "                  dist = dist + cos_dist\n",
        "        #print(\"===============\", dist)          \n",
        "        if(dist > 500):\n",
        "          #print(\"================\",dist)\n",
        "          for slist in subscription_value_glv:\n",
        "            for elist in event_value_glv:\n",
        "              final_dist = 0\n",
        "              for a,b in product(slist, elist):\n",
        "                #try:\n",
        "                  cos_dist = glv_cosine_distance_wordembedding_method(a,b)\n",
        "                  \n",
        "                  if(cos_dist > 80 ):\n",
        "                    \n",
        "                    final_dist = final_dist + cos_dist\n",
        "                  \n",
        "              \n",
        "          if(final_dist >= 450):\n",
        "            \n",
        "            gloveDict[j._1].append(i._1)"
      ],
      "execution_count": 0,
      "outputs": []
    },
    {
      "cell_type": "markdown",
      "metadata": {
        "id": "bB0AaSfZV_p3",
        "colab_type": "text"
      },
      "source": [
        "##Evaluation Metric"
      ]
    },
    {
      "cell_type": "code",
      "metadata": {
        "id": "79Zaawb6gmkJ",
        "colab_type": "code",
        "colab": {}
      },
      "source": [
        "\n",
        "acc_each_rec = 0\n",
        "prec_each_rec = 0\n",
        "recall_each_rec = 0\n",
        "f1_scr_each_rec = 0\n",
        "  \n",
        "for k in gold_dict.keys() & gloveDict.keys():\n",
        "    \n",
        "    a = gold_dict[k]\n",
        "    b = gloveDict[k]\n",
        "    count = 0\n",
        "    correct = 0\n",
        "    a = list(map(str.strip, a))\n",
        "    b = list(map(str.strip, b))\n",
        "    tp_tn = sum(el in a for el in b)\n",
        "    fn = get_false_negatives(a, b)\n",
        "    fp = get_false_positives(a, b)\n",
        "    acc_each_rec = acc_each_rec + (tp_tn/(tp_tn + fp + fn))\n",
        "    prec_each_rec = prec_each_rec + (tp_tn/ (tp_tn + fp))\n",
        "    recall_each_rec = recall_each_rec + (tp_tn/ (fn + tp_tn))\n",
        "    f1_scr_each_rec = (2 * prec_each_rec * recall_each_rec)/(prec_each_rec + recall_each_rec)\n",
        "\n",
        "print(\"Acurracy of the system is :\", acc_each_rec/len(gold_dict.keys())*100)\n",
        "print(\"Precision of the system is :\", prec_each_rec/len(gold_dict.keys())*100)\n",
        "print(\"Recall of the system is :\", recall_each_rec/len(gold_dict.keys())*100)\n",
        "print(\"F1 Score of the system is :\", f1_scr_each_rec/len(gold_dict.keys()))"
      ],
      "execution_count": 0,
      "outputs": []
    },
    {
      "cell_type": "code",
      "metadata": {
        "id": "QA7iZKMerXix",
        "colab_type": "code",
        "colab": {}
      },
      "source": [
        "\n",
        "def get_false_negatives(actual, pred):\n",
        "  cnt_fn = 0\n",
        "  #len(list(set(list1) ^ set(list2)))\n",
        "  for i in range(len(actual)):\n",
        "    if(actual[i] not in pred):\n",
        "      cnt_fn += 1\n",
        "  return(cnt_fn)\n",
        "\n",
        "def get_false_positives(actual, pred):\n",
        "  cnt_fp = 0\n",
        "  for i in range(len(pred)):\n",
        "    if(pred[i] not in actual):\n",
        "      cnt_fp += 1\n",
        "  return(cnt_fp)\n"
      ],
      "execution_count": 0,
      "outputs": []
    },
    {
      "cell_type": "markdown",
      "metadata": {
        "id": "6mcQARRsWWtk",
        "colab_type": "text"
      },
      "source": [
        "##Visualization"
      ]
    },
    {
      "cell_type": "code",
      "metadata": {
        "id": "r2Mz7aj7PLBT",
        "colab_type": "code",
        "colab": {}
      },
      "source": [
        "def display_closestwords_tsnescatterplot(model, word):\n",
        "    \n",
        "    arr = np.empty((0,200), dtype='f')\n",
        "    word_labels = [word]\n",
        "\n",
        "    # get close words\n",
        "    close_words = model.similar_by_word(word)\n",
        "    \n",
        "    # add the vector for each of the closest words to the array\n",
        "    arr = np.append(arr, np.array([model[word]]), axis=0)\n",
        "    for wrd_score in close_words:\n",
        "        wrd_vector = model[wrd_score[0]]\n",
        "        word_labels.append(wrd_score[0])\n",
        "        arr = np.append(arr, np.array([wrd_vector]), axis=0)\n",
        "        \n",
        "    # find tsne coords for 2 dimensions\n",
        "    tsne = TSNE(n_components=2, random_state=0)\n",
        "    np.set_printoptions(suppress=True)\n",
        "    Y = tsne.fit_transform(arr)\n",
        "\n",
        "    x_coords = Y[:, 0]\n",
        "    y_coords = Y[:, 1]\n",
        "    # display scatter plot\n",
        "    plt.scatter(x_coords, y_coords)\n",
        "\n",
        "    for label, x, y in zip(word_labels, x_coords, y_coords):\n",
        "        plt.annotate(label, xy=(x, y), xytext=(0, 0), textcoords='offset points')\n",
        "    plt.xlim(x_coords.min()+0.00005, x_coords.max()+0.00005)\n",
        "    plt.ylim(y_coords.min()+0.00005, y_coords.max()+0.00005)\n",
        "    plt.savefig('glove_plot.png')\n",
        "    plt.show()\n",
        "    "
      ],
      "execution_count": 0,
      "outputs": []
    },
    {
      "cell_type": "code",
      "metadata": {
        "id": "uzDIE6M5PjAw",
        "colab_type": "code",
        "colab": {
          "base_uri": "https://localhost:8080/",
          "height": 327
        },
        "outputId": "29cdbb12-39e3-451a-8413-38325ecd82de"
      },
      "source": [
        "display_closestwords_tsnescatterplot(glove_model, 'car')"
      ],
      "execution_count": 6,
      "outputs": [
        {
          "output_type": "stream",
          "text": [
            "/usr/local/lib/python3.6/dist-packages/gensim/matutils.py:737: FutureWarning: Conversion of the second argument of issubdtype from `int` to `np.signedinteger` is deprecated. In future, it will be treated as `np.int64 == np.dtype(int).type`.\n",
            "  if np.issubdtype(vec.dtype, np.int):\n"
          ],
          "name": "stderr"
        },
        {
          "output_type": "display_data",
          "data": {
            "image/png": "[encoded data removed]",
            "text/plain": [
              "<Figure size 432x288 with 1 Axes>"
            ]
          },
          "metadata": {
            "tags": []
          }
        }
      ]
    }
  ]
}